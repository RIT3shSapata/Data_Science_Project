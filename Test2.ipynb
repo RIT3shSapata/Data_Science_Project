{
 "cells": [
  {
   "cell_type": "code",
   "execution_count": 2,
   "metadata": {},
   "outputs": [
    {
     "data": {
      "text/plain": [
       "(4803, 20)"
      ]
     },
     "execution_count": 2,
     "metadata": {},
     "output_type": "execute_result"
    }
   ],
   "source": [
    "import pandas as pd\n",
    "#reading the csv file and replacing all the 0 and '[]' with Nan\n",
    "data = pd.read_csv(\"tmdb_5000_movies.csv\", na_values=[0,'[]'])\n",
    "len(data.columns)\n",
    "data.shape"
   ]
  },
  {
   "cell_type": "code",
   "execution_count": null,
   "metadata": {},
   "outputs": [],
   "source": []
  },
  {
   "cell_type": "code",
   "execution_count": 65,
   "metadata": {},
   "outputs": [
    {
     "data": {
      "text/plain": [
       "(4803, 14)"
      ]
     },
     "execution_count": 65,
     "metadata": {},
     "output_type": "execute_result"
    }
   ],
   "source": [
    "#dropping columns which are not useful for analysis\n",
    "data.drop(['homepage','id','keywords','original_title','overview','tagline'], axis = 1, inplace=True)\n",
    "data.shape"
   ]
  },
  {
   "cell_type": "code",
   "execution_count": 66,
   "metadata": {},
   "outputs": [
    {
     "data": {
      "text/plain": [
       "(4633, 14)"
      ]
     },
     "execution_count": 66,
     "metadata": {},
     "output_type": "execute_result"
    }
   ],
   "source": [
    "#dropping rows with more than 3 null values\n",
    "data = data.dropna(thresh=11)\n",
    "data.shape"
   ]
  },
  {
   "cell_type": "code",
   "execution_count": 77,
   "metadata": {},
   "outputs": [
    {
     "data": {
      "text/plain": [
       "(4425, 14)"
      ]
     },
     "execution_count": 77,
     "metadata": {},
     "output_type": "execute_result"
    }
   ],
   "source": [
    "#dropping rows with no production companies \n",
    "data = data.dropna(subset=['production_companies'])\n",
    "data = data.dropna(subset=['runtime']) #deleting the movies with no runtime!\n",
    "data.shape"
   ]
  },
  {
   "cell_type": "code",
   "execution_count": 68,
   "metadata": {},
   "outputs": [
    {
     "data": {
      "text/html": [
       "<div>\n",
       "<style scoped>\n",
       "    .dataframe tbody tr th:only-of-type {\n",
       "        vertical-align: middle;\n",
       "    }\n",
       "\n",
       "    .dataframe tbody tr th {\n",
       "        vertical-align: top;\n",
       "    }\n",
       "\n",
       "    .dataframe thead th {\n",
       "        text-align: right;\n",
       "    }\n",
       "</style>\n",
       "<table border=\"1\" class=\"dataframe\">\n",
       "  <thead>\n",
       "    <tr style=\"text-align: right;\">\n",
       "      <th></th>\n",
       "      <th>average</th>\n",
       "      <th>number</th>\n",
       "      <th>total</th>\n",
       "    </tr>\n",
       "  </thead>\n",
       "  <tbody>\n",
       "    <tr>\n",
       "      <th>Ingenious Film Partners</th>\n",
       "      <td>1.167488e+06</td>\n",
       "      <td>27.0</td>\n",
       "      <td>9.676298e+02</td>\n",
       "    </tr>\n",
       "    <tr>\n",
       "      <th>Twentieth Century Fox Film Corporation</th>\n",
       "      <td>1.167488e+06</td>\n",
       "      <td>209.0</td>\n",
       "      <td>5.642211e+02</td>\n",
       "    </tr>\n",
       "    <tr>\n",
       "      <th>Dune Entertainment</th>\n",
       "      <td>1.167488e+06</td>\n",
       "      <td>56.0</td>\n",
       "      <td>1.349541e+03</td>\n",
       "    </tr>\n",
       "    <tr>\n",
       "      <th>Lightstorm Entertainment</th>\n",
       "      <td>1.167488e+06</td>\n",
       "      <td>5.0</td>\n",
       "      <td>1.715555e+05</td>\n",
       "    </tr>\n",
       "    <tr>\n",
       "      <th>Walt Disney Pictures</th>\n",
       "      <td>2.127660e+06</td>\n",
       "      <td>105.0</td>\n",
       "      <td>3.557962e+02</td>\n",
       "    </tr>\n",
       "    <tr>\n",
       "      <th>Jerry Bruckheimer Films</th>\n",
       "      <td>2.127660e+06</td>\n",
       "      <td>20.0</td>\n",
       "      <td>9.799397e+03</td>\n",
       "    </tr>\n",
       "    <tr>\n",
       "      <th>Second Mate Productions</th>\n",
       "      <td>2.127660e+06</td>\n",
       "      <td>2.0</td>\n",
       "      <td>1.773050e+06</td>\n",
       "    </tr>\n",
       "    <tr>\n",
       "      <th>Columbia Pictures</th>\n",
       "      <td>2.378641e+06</td>\n",
       "      <td>182.0</td>\n",
       "      <td>3.056718e+01</td>\n",
       "    </tr>\n",
       "    <tr>\n",
       "      <th>Danjaq</th>\n",
       "      <td>2.378641e+06</td>\n",
       "      <td>8.0</td>\n",
       "      <td>2.928493e+03</td>\n",
       "    </tr>\n",
       "    <tr>\n",
       "      <th>B24</th>\n",
       "      <td>2.378641e+06</td>\n",
       "      <td>1.0</td>\n",
       "      <td>2.378641e+06</td>\n",
       "    </tr>\n",
       "    <tr>\n",
       "      <th>Legendary Pictures</th>\n",
       "      <td>1.602564e+06</td>\n",
       "      <td>33.0</td>\n",
       "      <td>1.260731e+03</td>\n",
       "    </tr>\n",
       "    <tr>\n",
       "      <th>Warner Bros.</th>\n",
       "      <td>1.602564e+06</td>\n",
       "      <td>297.0</td>\n",
       "      <td>6.701466e+00</td>\n",
       "    </tr>\n",
       "    <tr>\n",
       "      <th>DC Entertainment</th>\n",
       "      <td>1.602564e+06</td>\n",
       "      <td>12.0</td>\n",
       "      <td>2.724276e+03</td>\n",
       "    </tr>\n",
       "    <tr>\n",
       "      <th>Syncopy</th>\n",
       "      <td>1.602564e+06</td>\n",
       "      <td>8.0</td>\n",
       "      <td>5.673179e+04</td>\n",
       "    </tr>\n",
       "    <tr>\n",
       "      <th>Laura Ziskin Productions</th>\n",
       "      <td>1.925373e+06</td>\n",
       "      <td>5.0</td>\n",
       "      <td>1.001111e+05</td>\n",
       "    </tr>\n",
       "    <tr>\n",
       "      <th>Marvel Enterprises</th>\n",
       "      <td>1.925373e+06</td>\n",
       "      <td>16.0</td>\n",
       "      <td>1.047471e+04</td>\n",
       "    </tr>\n",
       "    <tr>\n",
       "      <th>Walt Disney Animation Studios</th>\n",
       "      <td>2.653061e+06</td>\n",
       "      <td>8.0</td>\n",
       "      <td>6.762236e+04</td>\n",
       "    </tr>\n",
       "    <tr>\n",
       "      <th>Marvel Studios</th>\n",
       "      <td>2.222222e+06</td>\n",
       "      <td>13.0</td>\n",
       "      <td>2.639534e+05</td>\n",
       "    </tr>\n",
       "    <tr>\n",
       "      <th>Prime Focus</th>\n",
       "      <td>2.222222e+06</td>\n",
       "      <td>1.0</td>\n",
       "      <td>2.222222e+06</td>\n",
       "    </tr>\n",
       "    <tr>\n",
       "      <th>Revolution Sun Studios</th>\n",
       "      <td>2.222222e+06</td>\n",
       "      <td>16.0</td>\n",
       "      <td>9.069631e+03</td>\n",
       "    </tr>\n",
       "    <tr>\n",
       "      <th>Heyday Films</th>\n",
       "      <td>3.289474e+06</td>\n",
       "      <td>10.0</td>\n",
       "      <td>6.575861e+03</td>\n",
       "    </tr>\n",
       "    <tr>\n",
       "      <th>DC Comics</th>\n",
       "      <td>9.727626e+05</td>\n",
       "      <td>15.0</td>\n",
       "      <td>6.230501e+02</td>\n",
       "    </tr>\n",
       "    <tr>\n",
       "      <th>Atlas Entertainment</th>\n",
       "      <td>9.727626e+05</td>\n",
       "      <td>11.0</td>\n",
       "      <td>1.167711e+04</td>\n",
       "    </tr>\n",
       "    <tr>\n",
       "      <th>Cruel &amp; Unusual Films</th>\n",
       "      <td>9.727626e+05</td>\n",
       "      <td>1.0</td>\n",
       "      <td>9.727626e+05</td>\n",
       "    </tr>\n",
       "    <tr>\n",
       "      <th>RatPac-Dune Entertainment</th>\n",
       "      <td>9.727626e+05</td>\n",
       "      <td>12.0</td>\n",
       "      <td>5.772949e+03</td>\n",
       "    </tr>\n",
       "    <tr>\n",
       "      <th>Bad Hat Harry Productions</th>\n",
       "      <td>1.626506e+06</td>\n",
       "      <td>12.0</td>\n",
       "      <td>7.312945e+03</td>\n",
       "    </tr>\n",
       "    <tr>\n",
       "      <th>Eon Productions</th>\n",
       "      <td>4.878049e+06</td>\n",
       "      <td>22.0</td>\n",
       "      <td>5.880499e+02</td>\n",
       "    </tr>\n",
       "    <tr>\n",
       "      <th>Infinitum Nihil</th>\n",
       "      <td>9.172662e+05</td>\n",
       "      <td>4.0</td>\n",
       "      <td>1.814227e+05</td>\n",
       "    </tr>\n",
       "    <tr>\n",
       "      <th>Silver Bullet Productions (II)</th>\n",
       "      <td>9.172662e+05</td>\n",
       "      <td>1.0</td>\n",
       "      <td>9.172662e+05</td>\n",
       "    </tr>\n",
       "    <tr>\n",
       "      <th>Blind Wink Productions</th>\n",
       "      <td>9.172662e+05</td>\n",
       "      <td>1.0</td>\n",
       "      <td>9.172662e+05</td>\n",
       "    </tr>\n",
       "    <tr>\n",
       "      <th>...</th>\n",
       "      <td>...</td>\n",
       "      <td>...</td>\n",
       "      <td>...</td>\n",
       "    </tr>\n",
       "    <tr>\n",
       "      <th>Bron Studios</th>\n",
       "      <td>5.029586e+04</td>\n",
       "      <td>1.0</td>\n",
       "      <td>5.029586e+04</td>\n",
       "    </tr>\n",
       "    <tr>\n",
       "      <th>Tiny Giant Entertainment</th>\n",
       "      <td>5.029586e+04</td>\n",
       "      <td>1.0</td>\n",
       "      <td>5.029586e+04</td>\n",
       "    </tr>\n",
       "    <tr>\n",
       "      <th>Tremendum Pictures</th>\n",
       "      <td>5.847953e+02</td>\n",
       "      <td>1.0</td>\n",
       "      <td>5.847953e+02</td>\n",
       "    </tr>\n",
       "    <tr>\n",
       "      <th>American Film Institute (AFI)</th>\n",
       "      <td>1.063830e+02</td>\n",
       "      <td>1.0</td>\n",
       "      <td>1.063830e+02</td>\n",
       "    </tr>\n",
       "    <tr>\n",
       "      <th>Libra Films</th>\n",
       "      <td>1.063830e+02</td>\n",
       "      <td>1.0</td>\n",
       "      <td>1.063830e+02</td>\n",
       "    </tr>\n",
       "    <tr>\n",
       "      <th>Wrecking Crew</th>\n",
       "      <td>8.547009e-01</td>\n",
       "      <td>1.0</td>\n",
       "      <td>8.547009e-01</td>\n",
       "    </tr>\n",
       "    <tr>\n",
       "      <th>Polyvinyl Records</th>\n",
       "      <td>8.547009e-01</td>\n",
       "      <td>1.0</td>\n",
       "      <td>8.547009e-01</td>\n",
       "    </tr>\n",
       "    <tr>\n",
       "      <th>Shrine</th>\n",
       "      <td>8.547009e-01</td>\n",
       "      <td>1.0</td>\n",
       "      <td>8.547009e-01</td>\n",
       "    </tr>\n",
       "    <tr>\n",
       "      <th>Truth and Soul Pictures Inc</th>\n",
       "      <td>3.333333e+02</td>\n",
       "      <td>1.0</td>\n",
       "      <td>3.333333e+02</td>\n",
       "    </tr>\n",
       "    <tr>\n",
       "      <th>Harvest Filmworks</th>\n",
       "      <td>3.333333e+02</td>\n",
       "      <td>1.0</td>\n",
       "      <td>3.333333e+02</td>\n",
       "    </tr>\n",
       "    <tr>\n",
       "      <th>Plantain Films</th>\n",
       "      <td>3.333333e+02</td>\n",
       "      <td>1.0</td>\n",
       "      <td>3.333333e+02</td>\n",
       "    </tr>\n",
       "    <tr>\n",
       "      <th>Polonia Brothers Entertainment</th>\n",
       "      <td>1.315789e+03</td>\n",
       "      <td>1.0</td>\n",
       "      <td>1.315789e+03</td>\n",
       "    </tr>\n",
       "    <tr>\n",
       "      <th>Kathbur Pictures</th>\n",
       "      <td>1.547619e+03</td>\n",
       "      <td>1.0</td>\n",
       "      <td>1.547619e+03</td>\n",
       "    </tr>\n",
       "    <tr>\n",
       "      <th>Rex Carlton Productions</th>\n",
       "      <td>1.240000e+03</td>\n",
       "      <td>1.0</td>\n",
       "      <td>1.240000e+03</td>\n",
       "    </tr>\n",
       "    <tr>\n",
       "      <th>Blue Dot Productions</th>\n",
       "      <td>7.070707e+02</td>\n",
       "      <td>1.0</td>\n",
       "      <td>7.070707e+02</td>\n",
       "    </tr>\n",
       "    <tr>\n",
       "      <th>FallBack Plan Productions</th>\n",
       "      <td>7.070707e+02</td>\n",
       "      <td>1.0</td>\n",
       "      <td>7.070707e+02</td>\n",
       "    </tr>\n",
       "    <tr>\n",
       "      <th>Tiny Ponies</th>\n",
       "      <td>1.710526e+03</td>\n",
       "      <td>1.0</td>\n",
       "      <td>1.710526e+03</td>\n",
       "    </tr>\n",
       "    <tr>\n",
       "      <th>HPLHS</th>\n",
       "      <td>1.562500e+03</td>\n",
       "      <td>1.0</td>\n",
       "      <td>1.562500e+03</td>\n",
       "    </tr>\n",
       "    <tr>\n",
       "      <th>Low Spark Films</th>\n",
       "      <td>2.941176e+04</td>\n",
       "      <td>1.0</td>\n",
       "      <td>2.941176e+04</td>\n",
       "    </tr>\n",
       "    <tr>\n",
       "      <th>Signal Film Group</th>\n",
       "      <td>2.941176e+04</td>\n",
       "      <td>1.0</td>\n",
       "      <td>2.941176e+04</td>\n",
       "    </tr>\n",
       "    <tr>\n",
       "      <th>Respect Films</th>\n",
       "      <td>6.756757e+02</td>\n",
       "      <td>1.0</td>\n",
       "      <td>6.756757e+02</td>\n",
       "    </tr>\n",
       "    <tr>\n",
       "      <th>Sequart</th>\n",
       "      <td>6.756757e+02</td>\n",
       "      <td>1.0</td>\n",
       "      <td>6.756757e+02</td>\n",
       "    </tr>\n",
       "    <tr>\n",
       "      <th>Little Big Film Company</th>\n",
       "      <td>3.333333e+02</td>\n",
       "      <td>1.0</td>\n",
       "      <td>3.333333e+02</td>\n",
       "    </tr>\n",
       "    <tr>\n",
       "      <th>Abundant Productions</th>\n",
       "      <td>3.333333e+02</td>\n",
       "      <td>1.0</td>\n",
       "      <td>3.333333e+02</td>\n",
       "    </tr>\n",
       "    <tr>\n",
       "      <th>Faith vs. Fate Productions</th>\n",
       "      <td>3.333333e+02</td>\n",
       "      <td>1.0</td>\n",
       "      <td>3.333333e+02</td>\n",
       "    </tr>\n",
       "    <tr>\n",
       "      <th>Strand Releasing</th>\n",
       "      <td>6.428571e+02</td>\n",
       "      <td>1.0</td>\n",
       "      <td>6.428571e+02</td>\n",
       "    </tr>\n",
       "    <tr>\n",
       "      <th>Dreamland Productions</th>\n",
       "      <td>2.608696e+02</td>\n",
       "      <td>1.0</td>\n",
       "      <td>2.608696e+02</td>\n",
       "    </tr>\n",
       "    <tr>\n",
       "      <th>Park Films</th>\n",
       "      <td>1.585366e-01</td>\n",
       "      <td>1.0</td>\n",
       "      <td>1.585366e-01</td>\n",
       "    </tr>\n",
       "    <tr>\n",
       "      <th>Camera Stylo Films</th>\n",
       "      <td>1.585366e-01</td>\n",
       "      <td>1.0</td>\n",
       "      <td>1.585366e-01</td>\n",
       "    </tr>\n",
       "    <tr>\n",
       "      <th>Daiei Studios</th>\n",
       "      <td>5.263158e+02</td>\n",
       "      <td>1.0</td>\n",
       "      <td>5.263158e+02</td>\n",
       "    </tr>\n",
       "  </tbody>\n",
       "</table>\n",
       "<p>4190 rows × 3 columns</p>\n",
       "</div>"
      ],
      "text/plain": [
       "                                             average  number         total\n",
       "Ingenious Film Partners                 1.167488e+06    27.0  9.676298e+02\n",
       "Twentieth Century Fox Film Corporation  1.167488e+06   209.0  5.642211e+02\n",
       "Dune Entertainment                      1.167488e+06    56.0  1.349541e+03\n",
       "Lightstorm Entertainment                1.167488e+06     5.0  1.715555e+05\n",
       "Walt Disney Pictures                    2.127660e+06   105.0  3.557962e+02\n",
       "Jerry Bruckheimer Films                 2.127660e+06    20.0  9.799397e+03\n",
       "Second Mate Productions                 2.127660e+06     2.0  1.773050e+06\n",
       "Columbia Pictures                       2.378641e+06   182.0  3.056718e+01\n",
       "Danjaq                                  2.378641e+06     8.0  2.928493e+03\n",
       "B24                                     2.378641e+06     1.0  2.378641e+06\n",
       "Legendary Pictures                      1.602564e+06    33.0  1.260731e+03\n",
       "Warner Bros.                            1.602564e+06   297.0  6.701466e+00\n",
       "DC Entertainment                        1.602564e+06    12.0  2.724276e+03\n",
       "Syncopy                                 1.602564e+06     8.0  5.673179e+04\n",
       "Laura Ziskin Productions                1.925373e+06     5.0  1.001111e+05\n",
       "Marvel Enterprises                      1.925373e+06    16.0  1.047471e+04\n",
       "Walt Disney Animation Studios           2.653061e+06     8.0  6.762236e+04\n",
       "Marvel Studios                          2.222222e+06    13.0  2.639534e+05\n",
       "Prime Focus                             2.222222e+06     1.0  2.222222e+06\n",
       "Revolution Sun Studios                  2.222222e+06    16.0  9.069631e+03\n",
       "Heyday Films                            3.289474e+06    10.0  6.575861e+03\n",
       "DC Comics                               9.727626e+05    15.0  6.230501e+02\n",
       "Atlas Entertainment                     9.727626e+05    11.0  1.167711e+04\n",
       "Cruel & Unusual Films                   9.727626e+05     1.0  9.727626e+05\n",
       "RatPac-Dune Entertainment               9.727626e+05    12.0  5.772949e+03\n",
       "Bad Hat Harry Productions               1.626506e+06    12.0  7.312945e+03\n",
       "Eon Productions                         4.878049e+06    22.0  5.880499e+02\n",
       "Infinitum Nihil                         9.172662e+05     4.0  1.814227e+05\n",
       "Silver Bullet Productions (II)          9.172662e+05     1.0  9.172662e+05\n",
       "Blind Wink Productions                  9.172662e+05     1.0  9.172662e+05\n",
       "...                                              ...     ...           ...\n",
       "Bron Studios                            5.029586e+04     1.0  5.029586e+04\n",
       "Tiny Giant Entertainment                5.029586e+04     1.0  5.029586e+04\n",
       "Tremendum Pictures                      5.847953e+02     1.0  5.847953e+02\n",
       "American Film Institute (AFI)           1.063830e+02     1.0  1.063830e+02\n",
       "Libra Films                             1.063830e+02     1.0  1.063830e+02\n",
       "Wrecking Crew                           8.547009e-01     1.0  8.547009e-01\n",
       "Polyvinyl Records                       8.547009e-01     1.0  8.547009e-01\n",
       "Shrine                                  8.547009e-01     1.0  8.547009e-01\n",
       "Truth and Soul Pictures Inc             3.333333e+02     1.0  3.333333e+02\n",
       "Harvest Filmworks                       3.333333e+02     1.0  3.333333e+02\n",
       "Plantain Films                          3.333333e+02     1.0  3.333333e+02\n",
       "Polonia Brothers Entertainment          1.315789e+03     1.0  1.315789e+03\n",
       "Kathbur Pictures                        1.547619e+03     1.0  1.547619e+03\n",
       "Rex Carlton Productions                 1.240000e+03     1.0  1.240000e+03\n",
       "Blue Dot Productions                    7.070707e+02     1.0  7.070707e+02\n",
       "FallBack Plan Productions               7.070707e+02     1.0  7.070707e+02\n",
       "Tiny Ponies                             1.710526e+03     1.0  1.710526e+03\n",
       "HPLHS                                   1.562500e+03     1.0  1.562500e+03\n",
       "Low Spark Films                         2.941176e+04     1.0  2.941176e+04\n",
       "Signal Film Group                       2.941176e+04     1.0  2.941176e+04\n",
       "Respect Films                           6.756757e+02     1.0  6.756757e+02\n",
       "Sequart                                 6.756757e+02     1.0  6.756757e+02\n",
       "Little Big Film Company                 3.333333e+02     1.0  3.333333e+02\n",
       "Abundant Productions                    3.333333e+02     1.0  3.333333e+02\n",
       "Faith vs. Fate Productions              3.333333e+02     1.0  3.333333e+02\n",
       "Strand Releasing                        6.428571e+02     1.0  6.428571e+02\n",
       "Dreamland Productions                   2.608696e+02     1.0  2.608696e+02\n",
       "Park Films                              1.585366e-01     1.0  1.585366e-01\n",
       "Camera Stylo Films                      1.585366e-01     1.0  1.585366e-01\n",
       "Daiei Studios                           5.263158e+02     1.0  5.263158e+02\n",
       "\n",
       "[4190 rows x 3 columns]"
      ]
     },
     "execution_count": 68,
     "metadata": {},
     "output_type": "execute_result"
    }
   ],
   "source": [
    "#creating a dataframe which stores the average budget of all the poduction companies\n",
    "\n",
    "import pandas as pd\n",
    "import json\n",
    "import math\n",
    "d = {}\n",
    "\n",
    "def company_average(budget, companies):\n",
    "    global d\n",
    "    if math.isnan(budget):\n",
    "        return\n",
    "    \n",
    "    data = json.loads(companies)\n",
    "    per_company = budget/len(companies)\n",
    "    \n",
    "    for company in data:\n",
    "        name = company['name']\n",
    "        if name in d.keys():\n",
    "            d[name]['total'] +=per_company\n",
    "            d[name]['number'] +=1\n",
    "            d[name]['total'] =d[name]['total']/d[name]['number']\n",
    "        else:\n",
    "            d[name]={'total':per_company, 'average': per_company, 'number':1}\n",
    "    \n",
    "for i in (data.index):\n",
    "    company_average(data.loc[i,'budget'],data.loc[i,'production_companies'])\n",
    "    \n",
    "companies = pd.DataFrame(d).transpose()\n",
    "companies"
   ]
  },
  {
   "cell_type": "code",
   "execution_count": 69,
   "metadata": {},
   "outputs": [
    {
     "name": "stdout",
     "output_type": "stream",
     "text": [
      "(754, 14)\n"
     ]
    },
    {
     "data": {
      "text/plain": [
       "(477, 14)"
      ]
     },
     "execution_count": 69,
     "metadata": {},
     "output_type": "execute_result"
    }
   ],
   "source": [
    "#using the companies dataframe to fill the rows with null budget with the sum of the averages of the companies' budget\n",
    "\n",
    "import json\n",
    "\n",
    "#number of null budget values before filling with average = 754\n",
    "print(data[data['budget'].isna()].shape)\n",
    "\n",
    "def get_average(data):\n",
    "    \n",
    "    comp = json.loads(data)\n",
    "    budget = 0\n",
    "    for i in comp:\n",
    "        if i['name'] in companies.index:\n",
    "            budget += companies.loc[i['name'],'average']\n",
    "        else:\n",
    "            return\n",
    "    return budget\n",
    "\n",
    "\n",
    "for i in data[data['budget'].isna()].index:\n",
    "    average = get_average(data.loc[i,'production_companies'])\n",
    "    data.loc[i,'budget']= average\n",
    "\n",
    "#number of null budget values after filling with average = 477    \n",
    "data[data['budget'].isna()].shape"
   ]
  },
  {
   "cell_type": "code",
   "execution_count": 70,
   "metadata": {},
   "outputs": [
    {
     "data": {
      "image/png": "[encoded data removed]",
      "text/plain": [
       "<Figure size 432x288 with 1 Axes>"
      ]
     },
     "metadata": {
      "needs_background": "light"
     },
     "output_type": "display_data"
    }
   ],
   "source": [
    "#bar graph\n",
    "d1 = {}\n",
    "arr=[]\n",
    "def genrestotal(genre):\n",
    "    global d1\n",
    "    data = json.loads(genre)\n",
    "    #per_company = budget/len(genre)\n",
    "    for i in data:\n",
    "        name = i['name']\n",
    "        #if name in d.keys():\n",
    "        arr.append(name)\n",
    "for i in (data.index):\n",
    "    genrestotal(data.loc[i,'genres'])\n",
    "d1=set(arr)\n",
    "arr\n",
    "countarr=[]\n",
    "counter=0;\n",
    "for j in d1:\n",
    "    for i in arr:\n",
    "        if j==i:\n",
    "            counter=counter+1;\n",
    "    countarr.append(counter);\n",
    "    counter=0;\n",
    "countarr.reverse()\n",
    "fig = plt.figure()\n",
    "ax = fig.add_axes([0,0,1,1])\n",
    "genress = ['Action','Adventure','Animation','Comedy','Crime','Documentary','Drama','Family','Fantasy','Foreign','Horror','History','Music','Mystery','Romance','Science Fiction', 'TV Movie','Thriller','War','Western']\n",
    "ax.barh(genress,countarr)\n",
    "plt.show()"
   ]
  },
  {
   "cell_type": "code",
   "execution_count": 7,
   "metadata": {},
   "outputs": [
    {
     "data": {
      "image/png": "[encoded data removed]",
      "text/plain": [
       "<Figure size 720x504 with 1 Axes>"
      ]
     },
     "metadata": {},
     "output_type": "display_data"
    }
   ],
   "source": [
    "#pie graph\n",
    "#freq,bins,patches=plt.hist(data['runtime']) histogram ( an alternative )\n",
    "import matplotlib.pyplot as plt\n",
    "import seaborn as sns\n",
    "count1=0\n",
    "count2=0\n",
    "count3=0\n",
    "count4=0\n",
    "count5=0\n",
    "for i in data['runtime']:\n",
    "    if i<90:\n",
    "        count1=count1+1;\n",
    "    elif i>90 and i<120:\n",
    "        count2=count2+1;\n",
    "    elif i>120 and i<150:\n",
    "        count3=count3+1;\n",
    "    elif i>150 and i<180:\n",
    "        count4=count4+1;\n",
    "    else :\n",
    "        count5=count5+1;\n",
    "runtimes = ['<90', '>90 &12 <120','>120 && <150', \n",
    "        '>120 && <180', '>80'] \n",
    "  \n",
    "rtdata= [count1,count2,count3,count4,count5] \n",
    "fig = plt.figure(figsize =(10, 7)) \n",
    "plt.pie(rtdata, labels = runtimes, autopct='%1.1f%%', shadow=True) \n",
    "plt.show()"
   ]
  },
  {
   "cell_type": "code",
   "execution_count": null,
   "metadata": {},
   "outputs": [],
   "source": []
  },
  {
   "cell_type": "code",
   "execution_count": null,
   "metadata": {},
   "outputs": [],
   "source": []
  },
  {
   "cell_type": "code",
   "execution_count": null,
   "metadata": {},
   "outputs": [],
   "source": []
  },
  {
   "cell_type": "code",
   "execution_count": null,
   "metadata": {},
   "outputs": [],
   "source": []
  },
  {
   "cell_type": "code",
   "execution_count": null,
   "metadata": {},
   "outputs": [],
   "source": []
  },
  {
   "cell_type": "code",
   "execution_count": null,
   "metadata": {},
   "outputs": [],
   "source": []
  },
  {
   "cell_type": "code",
   "execution_count": 75,
   "metadata": {},
   "outputs": [
    {
     "data": {
      "text/plain": [
       "{'whiskers': [<matplotlib.lines.Line2D at 0x1fb972569b0>,\n",
       "  <matplotlib.lines.Line2D at 0x1fb97256d68>],\n",
       " 'caps': [<matplotlib.lines.Line2D at 0x1fb9724d0f0>,\n",
       "  <matplotlib.lines.Line2D at 0x1fb9724d438>],\n",
       " 'boxes': [<matplotlib.lines.Line2D at 0x1fb97256860>],\n",
       " 'medians': [<matplotlib.lines.Line2D at 0x1fb9724d780>],\n",
       " 'fliers': [<matplotlib.lines.Line2D at 0x1fb9724dac8>],\n",
       " 'means': []}"
      ]
     },
     "execution_count": 75,
     "metadata": {},
     "output_type": "execute_result"
    },
    {
     "data": {
      "image/png": "[encoded data removed]",
      "text/plain": [
       "<Figure size 432x288 with 1 Axes>"
      ]
     },
     "metadata": {
      "needs_background": "light"
     },
     "output_type": "display_data"
    }
   ],
   "source": [
    "#box plot\n",
    "data['vote_average']=data['vote_average'].fillna(0) #replace the 6 NaN values of voteaverage with 0 \n",
    "data['vote_count']=data['vote_count'].fillna(0)\n",
    "plt.boxplot(data['vote_average'])"
   ]
  },
  {
   "cell_type": "code",
   "execution_count": 73,
   "metadata": {},
   "outputs": [],
   "source": [
    "#normalization"
   ]
  },
  {
   "cell_type": "code",
   "execution_count": 42,
   "metadata": {},
   "outputs": [
    {
     "data": {
      "image/png": "[encoded data removed]",
      "text/plain": [
       "<Figure size 432x288 with 1 Axes>"
      ]
     },
     "metadata": {
      "needs_background": "light"
     },
     "output_type": "display_data"
    },
    {
     "data": {
      "image/png": "[encoded data removed]",
      "text/plain": [
       "<Figure size 432x288 with 1 Axes>"
      ]
     },
     "metadata": {
      "needs_background": "light"
     },
     "output_type": "display_data"
    },
    {
     "data": {
      "image/png": "[encoded data removed]",
      "text/plain": [
       "<Figure size 432x288 with 1 Axes>"
      ]
     },
     "metadata": {
      "needs_background": "light"
     },
     "output_type": "display_data"
    },
    {
     "data": {
      "image/png": "[encoded data removed]",
      "text/plain": [
       "<Figure size 432x288 with 1 Axes>"
      ]
     },
     "metadata": {
      "needs_background": "light"
     },
     "output_type": "display_data"
    },
    {
     "data": {
      "image/png": "[encoded data removed]",
      "text/plain": [
       "<Figure size 432x288 with 1 Axes>"
      ]
     },
     "metadata": {
      "needs_background": "light"
     },
     "output_type": "display_data"
    },
    {
     "data": {
      "image/png": "[encoded data removed]",
      "text/plain": [
       "<Figure size 432x288 with 1 Axes>"
      ]
     },
     "metadata": {
      "needs_background": "light"
     },
     "output_type": "display_data"
    }
   ],
   "source": [
    "from scipy.stats import norm\n",
    "import numpy as np\n",
    "import matplotlib.pyplot as plt\n",
    "\n",
    "columns = ['budget', 'popularity', 'revenue', 'runtime', 'vote_average', 'vote_count']\n",
    "\n",
    "def z_score(df):\n",
    "    df_std = data.copy()\n",
    "    for column in columns:\n",
    "        df_std[column] = (df_std[column] - df_std[column].mean()) / df_std[column].std()\n",
    "    return df_std\n",
    "\n",
    "df_standardised = z_score(data)\n",
    "for column in columns:\n",
    "    df_standardised[column].hist()\n",
    "    plt.title(column)\n",
    "    plt.show()"
   ]
  },
  {
   "cell_type": "code",
   "execution_count": null,
   "metadata": {},
   "outputs": [],
   "source": []
  },
  {
   "cell_type": "code",
   "execution_count": null,
   "metadata": {},
   "outputs": [],
   "source": []
  },
  {
   "cell_type": "code",
   "execution_count": null,
   "metadata": {},
   "outputs": [],
   "source": []
  },
  {
   "cell_type": "code",
   "execution_count": null,
   "metadata": {},
   "outputs": [],
   "source": []
  },
  {
   "cell_type": "code",
   "execution_count": null,
   "metadata": {},
   "outputs": [],
   "source": []
  },
  {
   "cell_type": "code",
   "execution_count": null,
   "metadata": {},
   "outputs": [],
   "source": []
  },
  {
   "cell_type": "code",
   "execution_count": null,
   "metadata": {},
   "outputs": [],
   "source": []
  },
  {
   "cell_type": "code",
   "execution_count": null,
   "metadata": {},
   "outputs": [],
   "source": []
  },
  {
   "cell_type": "code",
   "execution_count": null,
   "metadata": {},
   "outputs": [],
   "source": []
  },
  {
   "cell_type": "code",
   "execution_count": null,
   "metadata": {},
   "outputs": [],
   "source": []
  },
  {
   "cell_type": "code",
   "execution_count": null,
   "metadata": {},
   "outputs": [],
   "source": []
  },
  {
   "cell_type": "code",
   "execution_count": null,
   "metadata": {},
   "outputs": [],
   "source": []
  },
  {
   "cell_type": "code",
   "execution_count": null,
   "metadata": {},
   "outputs": [],
   "source": []
  },
  {
   "cell_type": "code",
   "execution_count": null,
   "metadata": {},
   "outputs": [],
   "source": []
  },
  {
   "cell_type": "code",
   "execution_count": null,
   "metadata": {},
   "outputs": [],
   "source": []
  },
  {
   "cell_type": "code",
   "execution_count": null,
   "metadata": {},
   "outputs": [],
   "source": []
  },
  {
   "cell_type": "code",
   "execution_count": null,
   "metadata": {},
   "outputs": [],
   "source": []
  },
  {
   "cell_type": "code",
   "execution_count": null,
   "metadata": {},
   "outputs": [],
   "source": []
  },
  {
   "cell_type": "code",
   "execution_count": null,
   "metadata": {},
   "outputs": [],
   "source": []
  },
  {
   "cell_type": "code",
   "execution_count": null,
   "metadata": {},
   "outputs": [],
   "source": []
  },
  {
   "cell_type": "code",
   "execution_count": null,
   "metadata": {},
   "outputs": [],
   "source": []
  },
  {
   "cell_type": "code",
   "execution_count": null,
   "metadata": {},
   "outputs": [],
   "source": []
  },
  {
   "cell_type": "code",
   "execution_count": null,
   "metadata": {},
   "outputs": [],
   "source": []
  },
  {
   "cell_type": "code",
   "execution_count": null,
   "metadata": {},
   "outputs": [],
   "source": []
  },
  {
   "cell_type": "code",
   "execution_count": null,
   "metadata": {},
   "outputs": [],
   "source": []
  },
  {
   "cell_type": "code",
   "execution_count": null,
   "metadata": {},
   "outputs": [],
   "source": []
  },
  {
   "cell_type": "code",
   "execution_count": null,
   "metadata": {},
   "outputs": [],
   "source": []
  },
  {
   "cell_type": "code",
   "execution_count": null,
   "metadata": {},
   "outputs": [],
   "source": []
  },
  {
   "cell_type": "code",
   "execution_count": null,
   "metadata": {},
   "outputs": [],
   "source": []
  },
  {
   "cell_type": "code",
   "execution_count": null,
   "metadata": {},
   "outputs": [],
   "source": []
  },
  {
   "cell_type": "code",
   "execution_count": null,
   "metadata": {},
   "outputs": [],
   "source": []
  },
  {
   "cell_type": "code",
   "execution_count": null,
   "metadata": {},
   "outputs": [],
   "source": []
  },
  {
   "cell_type": "code",
   "execution_count": null,
   "metadata": {},
   "outputs": [],
   "source": []
  },
  {
   "cell_type": "code",
   "execution_count": null,
   "metadata": {},
   "outputs": [],
   "source": []
  },
  {
   "cell_type": "code",
   "execution_count": null,
   "metadata": {},
   "outputs": [],
   "source": []
  },
  {
   "cell_type": "code",
   "execution_count": null,
   "metadata": {},
   "outputs": [],
   "source": []
  },
  {
   "cell_type": "code",
   "execution_count": null,
   "metadata": {},
   "outputs": [],
   "source": []
  },
  {
   "cell_type": "code",
   "execution_count": null,
   "metadata": {},
   "outputs": [],
   "source": []
  },
  {
   "cell_type": "code",
   "execution_count": null,
   "metadata": {},
   "outputs": [],
   "source": []
  },
  {
   "cell_type": "code",
   "execution_count": null,
   "metadata": {},
   "outputs": [],
   "source": []
  }
 ],
 "metadata": {
  "kernelspec": {
   "display_name": "Python 3",
   "language": "python",
   "name": "python3"
  },
  "language_info": {
   "codemirror_mode": {
    "name": "ipython",
    "version": 3
   },
   "file_extension": ".py",
   "mimetype": "text/x-python",
   "name": "python",
   "nbconvert_exporter": "python",
   "pygments_lexer": "ipython3",
   "version": "3.8.3"
  }
 },
 "nbformat": 4,
 "nbformat_minor": 4
}
