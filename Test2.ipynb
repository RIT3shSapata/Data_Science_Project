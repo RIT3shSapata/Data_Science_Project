{
 "cells": [
  {
   "cell_type": "code",
   "execution_count": 2,
   "metadata": {},
   "outputs": [
    {
     "data": {
      "text/plain": [
       "(4803, 20)"
      ]
     },
     "execution_count": 2,
     "metadata": {},
     "output_type": "execute_result"
    }
   ],
   "source": [
    "import pandas as pd\n",
    "#reading the csv file and replacing all the 0 and '[]' with Nan\n",
    "data = pd.read_csv(\"tmdb_5000_movies.csv\", na_values=[0,'[]'])\n",
    "len(data.columns)\n",
    "data.shape"
   ]
  },
  {
   "cell_type": "code",
   "execution_count": null,
   "metadata": {},
   "outputs": [],
   "source": []
  },
  {
   "cell_type": "code",
   "execution_count": 3,
   "metadata": {},
   "outputs": [
    {
     "data": {
      "text/plain": [
       "(4803, 14)"
      ]
     },
     "execution_count": 3,
     "metadata": {},
     "output_type": "execute_result"
    }
   ],
   "source": [
    "#dropping columns which are not useful for analysis\n",
    "data.drop(['homepage','id','keywords','original_title','overview','tagline'], axis = 1, inplace=True)\n",
    "data.shape"
   ]
  },
  {
   "cell_type": "code",
   "execution_count": 4,
   "metadata": {},
   "outputs": [
    {
     "data": {
      "text/plain": [
       "(4633, 14)"
      ]
     },
     "execution_count": 4,
     "metadata": {},
     "output_type": "execute_result"
    }
   ],
   "source": [
    "#dropping rows with more than 3 null values\n",
    "data = data.dropna(thresh=11)\n",
    "data.shape"
   ]
  },
  {
   "cell_type": "code",
   "execution_count": 5,
   "metadata": {},
   "outputs": [
    {
     "data": {
      "text/plain": [
       "budget                  735\n",
       "genres                    0\n",
       "original_language         0\n",
       "popularity                0\n",
       "production_companies      0\n",
       "production_countries      0\n",
       "release_date              0\n",
       "revenue                   0\n",
       "runtime                   0\n",
       "spoken_languages          0\n",
       "status                    0\n",
       "title                     0\n",
       "vote_average              6\n",
       "vote_count                6\n",
       "dtype: int64"
      ]
     },
     "execution_count": 5,
     "metadata": {},
     "output_type": "execute_result"
    }
   ],
   "source": [
    "#dropping rows with no production companies \n",
    "data = data.dropna(subset=['production_companies'])\n",
    "data = data.dropna(subset=['runtime']) #deleting the movies with no runtime!\n",
    "data = data.dropna(subset=['runtime']) #deleting the movies with no runtime\n",
    "data = data.dropna(subset=['production_countries'])#deleting the movies with no production_countries\n",
    "data = data.dropna(subset=['spoken_languages'])#deleting the movies with no spoken languages\n",
    "data['revenue']=data['revenue'].fillna(0)\n",
    "data.shape\n",
    "data.isnull().sum()"
   ]
  },
  {
   "cell_type": "code",
   "execution_count": 6,
   "metadata": {},
   "outputs": [
    {
     "data": {
      "text/html": [
       "<div>\n",
       "<style scoped>\n",
       "    .dataframe tbody tr th:only-of-type {\n",
       "        vertical-align: middle;\n",
       "    }\n",
       "\n",
       "    .dataframe tbody tr th {\n",
       "        vertical-align: top;\n",
       "    }\n",
       "\n",
       "    .dataframe thead th {\n",
       "        text-align: right;\n",
       "    }\n",
       "</style>\n",
       "<table border=\"1\" class=\"dataframe\">\n",
       "  <thead>\n",
       "    <tr style=\"text-align: right;\">\n",
       "      <th></th>\n",
       "      <th>total</th>\n",
       "      <th>average</th>\n",
       "      <th>number</th>\n",
       "    </tr>\n",
       "  </thead>\n",
       "  <tbody>\n",
       "    <tr>\n",
       "      <th>Ingenious Film Partners</th>\n",
       "      <td>967.629818</td>\n",
       "      <td>1.167488e+06</td>\n",
       "      <td>27.0</td>\n",
       "    </tr>\n",
       "    <tr>\n",
       "      <th>Twentieth Century Fox Film Corporation</th>\n",
       "      <td>564.221068</td>\n",
       "      <td>1.167488e+06</td>\n",
       "      <td>209.0</td>\n",
       "    </tr>\n",
       "    <tr>\n",
       "      <th>Dune Entertainment</th>\n",
       "      <td>1349.540852</td>\n",
       "      <td>1.167488e+06</td>\n",
       "      <td>56.0</td>\n",
       "    </tr>\n",
       "    <tr>\n",
       "      <th>Lightstorm Entertainment</th>\n",
       "      <td>171555.478802</td>\n",
       "      <td>1.167488e+06</td>\n",
       "      <td>5.0</td>\n",
       "    </tr>\n",
       "    <tr>\n",
       "      <th>Walt Disney Pictures</th>\n",
       "      <td>359.266136</td>\n",
       "      <td>2.127660e+06</td>\n",
       "      <td>104.0</td>\n",
       "    </tr>\n",
       "    <tr>\n",
       "      <th>...</th>\n",
       "      <td>...</td>\n",
       "      <td>...</td>\n",
       "      <td>...</td>\n",
       "    </tr>\n",
       "    <tr>\n",
       "      <th>Strand Releasing</th>\n",
       "      <td>642.857143</td>\n",
       "      <td>6.428571e+02</td>\n",
       "      <td>1.0</td>\n",
       "    </tr>\n",
       "    <tr>\n",
       "      <th>Dreamland Productions</th>\n",
       "      <td>260.869565</td>\n",
       "      <td>2.608696e+02</td>\n",
       "      <td>1.0</td>\n",
       "    </tr>\n",
       "    <tr>\n",
       "      <th>Park Films</th>\n",
       "      <td>0.158537</td>\n",
       "      <td>1.585366e-01</td>\n",
       "      <td>1.0</td>\n",
       "    </tr>\n",
       "    <tr>\n",
       "      <th>Camera Stylo Films</th>\n",
       "      <td>0.158537</td>\n",
       "      <td>1.585366e-01</td>\n",
       "      <td>1.0</td>\n",
       "    </tr>\n",
       "    <tr>\n",
       "      <th>Daiei Studios</th>\n",
       "      <td>526.315789</td>\n",
       "      <td>5.263158e+02</td>\n",
       "      <td>1.0</td>\n",
       "    </tr>\n",
       "  </tbody>\n",
       "</table>\n",
       "<p>4179 rows × 3 columns</p>\n",
       "</div>"
      ],
      "text/plain": [
       "                                                total       average  number\n",
       "Ingenious Film Partners                    967.629818  1.167488e+06    27.0\n",
       "Twentieth Century Fox Film Corporation     564.221068  1.167488e+06   209.0\n",
       "Dune Entertainment                        1349.540852  1.167488e+06    56.0\n",
       "Lightstorm Entertainment                171555.478802  1.167488e+06     5.0\n",
       "Walt Disney Pictures                       359.266136  2.127660e+06   104.0\n",
       "...                                               ...           ...     ...\n",
       "Strand Releasing                           642.857143  6.428571e+02     1.0\n",
       "Dreamland Productions                      260.869565  2.608696e+02     1.0\n",
       "Park Films                                   0.158537  1.585366e-01     1.0\n",
       "Camera Stylo Films                           0.158537  1.585366e-01     1.0\n",
       "Daiei Studios                              526.315789  5.263158e+02     1.0\n",
       "\n",
       "[4179 rows x 3 columns]"
      ]
     },
     "execution_count": 6,
     "metadata": {},
     "output_type": "execute_result"
    }
   ],
   "source": [
    "#creating a dataframe which stores the average budget of all the poduction companies\n",
    "\n",
    "import pandas as pd\n",
    "import json\n",
    "import math\n",
    "d = {}\n",
    "\n",
    "def company_average(budget, companies):\n",
    "    global d\n",
    "    if math.isnan(budget):\n",
    "        return\n",
    "    \n",
    "    data = json.loads(companies)\n",
    "    per_company = budget/len(companies)\n",
    "    \n",
    "    for company in data:\n",
    "        name = company['name']\n",
    "        if name in d.keys():\n",
    "            d[name]['total'] +=per_company\n",
    "            d[name]['number'] +=1\n",
    "            d[name]['total'] =d[name]['total']/d[name]['number']\n",
    "        else:\n",
    "            d[name]={'total':per_company, 'average': per_company, 'number':1}\n",
    "    \n",
    "for i in (data.index):\n",
    "    company_average(data.loc[i,'budget'],data.loc[i,'production_companies'])\n",
    "    \n",
    "companies = pd.DataFrame(d).transpose()\n",
    "companies"
   ]
  },
  {
   "cell_type": "code",
   "execution_count": 15,
   "metadata": {},
   "outputs": [
    {
     "name": "stdout",
     "output_type": "stream",
     "text": [
      "(0, 14)\n"
     ]
    },
    {
     "data": {
      "text/plain": [
       "(0, 14)"
      ]
     },
     "execution_count": 15,
     "metadata": {},
     "output_type": "execute_result"
    }
   ],
   "source": [
    "#using the companies dataframe to fill the rows with null budget with the sum of the averages of the companies' budget\n",
    "\n",
    "import json\n",
    "\n",
    "#number of null budget values before filling with average = 754\n",
    "print(data[data['budget'].isna()].shape)\n",
    "\n",
    "def get_average(data):\n",
    "    \n",
    "    comp = json.loads(data)\n",
    "    budget = 0\n",
    "    for i in comp:\n",
    "        if i['name'] in companies.index:\n",
    "            budget += companies.loc[i['name'],'average']\n",
    "    return budget\n",
    "\n",
    "\n",
    "for i in data[data['budget'].isna()].index:\n",
    "    average = get_average(data.loc[i,'production_companies'])\n",
    "    data.loc[i,'budget']= average\n",
    "\n",
    "#number of null budget values after filling with average = 477    \n",
    "data[data['budget'].isna()].shape"
   ]
  },
  {
   "cell_type": "code",
   "execution_count": null,
   "metadata": {},
   "outputs": [],
   "source": []
  },
  {
   "cell_type": "code",
   "execution_count": 16,
   "metadata": {},
   "outputs": [
    {
     "data": {
      "image/png": "[encoded data removed]",
      "text/plain": [
       "<Figure size 432x288 with 1 Axes>"
      ]
     },
     "metadata": {
      "needs_background": "light"
     },
     "output_type": "display_data"
    }
   ],
   "source": [
    "#bar graph\n",
    "d1 = {}\n",
    "arr=[]\n",
    "def genrestotal(genre):\n",
    "    global d1\n",
    "    data = json.loads(genre)\n",
    "    #per_company = budget/len(genre)\n",
    "    for i in data:\n",
    "        name = i['name']\n",
    "        #if name in d.keys():\n",
    "        arr.append(name)\n",
    "for i in (data.index):\n",
    "    genrestotal(data.loc[i,'genres'])\n",
    "d1=set(arr)\n",
    "arr\n",
    "countarr=[]\n",
    "counter=0;\n",
    "for j in d1:\n",
    "    for i in arr:\n",
    "        if j==i:\n",
    "            counter=counter+1;\n",
    "    countarr.append(counter);\n",
    "    counter=0;\n",
    "countarr.reverse()\n",
    "fig = plt.figure()\n",
    "ax = fig.add_axes([0,0,1,1])\n",
    "genress = ['Action','Adventure','Animation','Comedy','Crime','Documentary','Drama','Family','Fantasy','Foreign','Horror','History','Music','Mystery','Romance','Science Fiction', 'TV Movie','Thriller','War','Western']\n",
    "ax.barh(genress,countarr)\n",
    "plt.show()"
   ]
  },
  {
   "cell_type": "code",
   "execution_count": null,
   "metadata": {},
   "outputs": [],
   "source": []
  },
  {
   "cell_type": "code",
   "execution_count": null,
   "metadata": {},
   "outputs": [],
   "source": []
  },
  {
   "cell_type": "code",
   "execution_count": 12,
   "metadata": {},
   "outputs": [
    {
     "data": {
      "image/png": "[encoded data removed]",
      "text/plain": [
       "<Figure size 720x504 with 1 Axes>"
      ]
     },
     "metadata": {},
     "output_type": "display_data"
    }
   ],
   "source": [
    "#pie graph\n",
    "#freq,bins,patches=plt.hist(data['runtime']) histogram ( an alternative )\n",
    "import matplotlib.pyplot as plt\n",
    "import seaborn as sns\n",
    "count1=0\n",
    "count2=0\n",
    "count3=0\n",
    "count4=0\n",
    "count5=0\n",
    "for i in data['runtime']:\n",
    "    if i<90:\n",
    "        count1=count1+1;\n",
    "    elif i>90 and i<120:\n",
    "        count2=count2+1;\n",
    "    elif i>120 and i<150:\n",
    "        count3=count3+1;\n",
    "    elif i>150 and i<180:\n",
    "        count4=count4+1;\n",
    "    else :\n",
    "        count5=count5+1;\n",
    "runtimes = ['<90', '>90 &12 <120','>120 && <150', \n",
    "        '>120 && <180', '>80'] \n",
    "  \n",
    "rtdata= [count1,count2,count3,count4,count5] \n",
    "fig = plt.figure(figsize =(10, 7)) \n",
    "plt.pie(rtdata, labels = runtimes, autopct='%1.1f%%', shadow=True) \n",
    "plt.show()"
   ]
  },
  {
   "cell_type": "code",
   "execution_count": null,
   "metadata": {},
   "outputs": [],
   "source": []
  },
  {
   "cell_type": "code",
   "execution_count": null,
   "metadata": {},
   "outputs": [],
   "source": [
    "#box plot\n",
    "data['vote_average']=data['vote_average'].fillna(0) #replace the 6 NaN values of voteaverage with 0 \n",
    "data['vote_count']=data['vote_count'].fillna(0)\n",
    "plt.boxplot(data['vote_average'])"
   ]
  },
  {
   "cell_type": "code",
   "execution_count": null,
   "metadata": {},
   "outputs": [],
   "source": [
    "#normalization"
   ]
  },
  {
   "cell_type": "code",
   "execution_count": 10,
   "metadata": {},
   "outputs": [
    {
     "data": {
      "image/png": "[encoded data removed]",
      "text/plain": [
       "<Figure size 432x288 with 1 Axes>"
      ]
     },
     "metadata": {
      "needs_background": "light"
     },
     "output_type": "display_data"
    },
    {
     "data": {
      "image/png": "[encoded data removed]",
      "text/plain": [
       "<Figure size 432x288 with 1 Axes>"
      ]
     },
     "metadata": {
      "needs_background": "light"
     },
     "output_type": "display_data"
    },
    {
     "data": {
      "image/png": "[encoded data removed]",
      "text/plain": [
       "<Figure size 432x288 with 1 Axes>"
      ]
     },
     "metadata": {
      "needs_background": "light"
     },
     "output_type": "display_data"
    },
    {
     "data": {
      "image/png": "[encoded data removed]",
      "text/plain": [
       "<Figure size 432x288 with 1 Axes>"
      ]
     },
     "metadata": {
      "needs_background": "light"
     },
     "output_type": "display_data"
    },
    {
     "data": {
      "image/png": "[encoded data removed]",
      "text/plain": [
       "<Figure size 432x288 with 1 Axes>"
      ]
     },
     "metadata": {
      "needs_background": "light"
     },
     "output_type": "display_data"
    },
    {
     "data": {
      "image/png": "[encoded data removed]",
      "text/plain": [
       "<Figure size 432x288 with 1 Axes>"
      ]
     },
     "metadata": {
      "needs_background": "light"
     },
     "output_type": "display_data"
    }
   ],
   "source": [
    "from scipy.stats import norm\n",
    "import numpy as np\n",
    "import matplotlib.pyplot as plt\n",
    "\n",
    "columns = ['budget', 'popularity', 'revenue', 'runtime', 'vote_average', 'vote_count']\n",
    "\n",
    "def z_score(df):\n",
    "    df_std = data.copy()\n",
    "    for column in columns:\n",
    "        df_std[column] = (df_std[column] - df_std[column].mean()) / df_std[column].std()\n",
    "    return df_std\n",
    "\n",
    "df_standardised = z_score(data)\n",
    "for column in columns:\n",
    "    df_standardised[column].hist()\n",
    "    plt.title(column)\n",
    "    plt.show()"
   ]
  },
  {
   "cell_type": "code",
   "execution_count": null,
   "metadata": {},
   "outputs": [],
   "source": []
  },
  {
   "cell_type": "code",
   "execution_count": 13,
   "metadata": {},
   "outputs": [
    {
     "data": {
      "text/plain": [
       "<matplotlib.axes._subplots.AxesSubplot at 0x257981801f0>"
      ]
     },
     "execution_count": 13,
     "metadata": {},
     "output_type": "execute_result"
    },
    {
     "data": {
      "image/png": "[encoded data removed]",
      "text/plain": [
       "<Figure size 648x576 with 2 Axes>"
      ]
     },
     "metadata": {
      "needs_background": "light"
     },
     "output_type": "display_data"
    }
   ],
   "source": [
    "#correlation\n",
    "corrmat = data.corr() \n",
    "f, ax = plt.subplots(figsize =(9, 8)) \n",
    "sns.heatmap(corrmat, ax = ax, cmap =\"YlGnBu\", linewidths = 0.1,annot=True)"
   ]
  },
  {
   "cell_type": "code",
   "execution_count": null,
   "metadata": {},
   "outputs": [],
   "source": []
  },
  {
   "cell_type": "code",
   "execution_count": null,
   "metadata": {},
   "outputs": [],
   "source": []
  },
  {
   "cell_type": "code",
   "execution_count": 14,
   "metadata": {},
   "outputs": [
    {
     "data": {
      "image/png": "[encoded data removed]",
      "text/plain": [
       "<Figure size 432x288 with 1 Axes>"
      ]
     },
     "metadata": {
      "needs_background": "light"
     },
     "output_type": "display_data"
    },
    {
     "data": {
      "image/png": "[encoded data removed]",
      "text/plain": [
       "<Figure size 432x288 with 1 Axes>"
      ]
     },
     "metadata": {
      "needs_background": "light"
     },
     "output_type": "display_data"
    },
    {
     "data": {
      "image/png": "[encoded data removed]",
      "text/plain": [
       "<Figure size 432x288 with 1 Axes>"
      ]
     },
     "metadata": {
      "needs_background": "light"
     },
     "output_type": "display_data"
    }
   ],
   "source": [
    "plt.scatter(data['popularity'],data['vote_count']) #vote count increases with the popularity\n",
    "plt.xlabel('popularity')\n",
    "plt.ylabel('Vote count')\n",
    "plt.show()\n",
    "plt.scatter(data['revenue'],data['vote_count']) #revenue increases with increase in vote_count \n",
    "plt.xlabel('Revenue')\n",
    "plt.ylabel('Vote count')\n",
    "plt.show()\n",
    "plt.scatter(data['budget'],data['revenue'])#revenue increases with the budget \n",
    "plt.xlabel('Budget')\n",
    "plt.ylabel('Revenue')\n",
    "plt.show()"
   ]
  },
  {
   "cell_type": "code",
   "execution_count": 20,
   "metadata": {},
   "outputs": [
    {
     "name": "stdout",
     "output_type": "stream",
     "text": [
      "P-value = \n",
      "6.643310026168133e-303\n",
      "Null Hypothesis is rejected.\n"
     ]
    }
   ],
   "source": [
    "#Hypothesis Testing\n",
    "#If the budget of the movie is greater then 40 million , then the average runtime will be greater than 120 minutes.\n",
    "#H0: u <= 120\n",
    "#H1: u > 120\n",
    "\n",
    "#To test the hypothesis , we use the z-score method\n",
    "import pandas as pd\n",
    "from scipy import stats\n",
    "from statsmodels.stats import weightstats as stests\n",
    "\n",
    "ztest, pval = stests.ztest(data['runtime'], x2=None, value=120)\n",
    "print(\"P-value = \")\n",
    "print(float(pval))\n",
    "\n",
    "if(pval < 0.05):\n",
    "    print(\"Null Hypothesis is rejected.\")\n",
    "else:\n",
    "    print(\"Null Hypothesis is plausible\")"
   ]
  },
  {
   "cell_type": "code",
   "execution_count": null,
   "metadata": {},
   "outputs": [],
   "source": []
  },
  {
   "cell_type": "code",
   "execution_count": null,
   "metadata": {},
   "outputs": [],
   "source": []
  },
  {
   "cell_type": "code",
   "execution_count": null,
   "metadata": {},
   "outputs": [],
   "source": []
  },
  {
   "cell_type": "code",
   "execution_count": null,
   "metadata": {},
   "outputs": [],
   "source": []
  },
  {
   "cell_type": "code",
   "execution_count": null,
   "metadata": {},
   "outputs": [],
   "source": []
  },
  {
   "cell_type": "code",
   "execution_count": null,
   "metadata": {},
   "outputs": [],
   "source": []
  },
  {
   "cell_type": "code",
   "execution_count": null,
   "metadata": {},
   "outputs": [],
   "source": []
  },
  {
   "cell_type": "code",
   "execution_count": null,
   "metadata": {},
   "outputs": [],
   "source": []
  },
  {
   "cell_type": "code",
   "execution_count": null,
   "metadata": {},
   "outputs": [],
   "source": []
  },
  {
   "cell_type": "code",
   "execution_count": null,
   "metadata": {},
   "outputs": [],
   "source": []
  },
  {
   "cell_type": "code",
   "execution_count": null,
   "metadata": {},
   "outputs": [],
   "source": []
  },
  {
   "cell_type": "code",
   "execution_count": null,
   "metadata": {},
   "outputs": [],
   "source": []
  },
  {
   "cell_type": "code",
   "execution_count": null,
   "metadata": {},
   "outputs": [],
   "source": []
  },
  {
   "cell_type": "code",
   "execution_count": null,
   "metadata": {},
   "outputs": [],
   "source": []
  },
  {
   "cell_type": "code",
   "execution_count": null,
   "metadata": {},
   "outputs": [],
   "source": []
  },
  {
   "cell_type": "code",
   "execution_count": null,
   "metadata": {},
   "outputs": [],
   "source": []
  },
  {
   "cell_type": "code",
   "execution_count": null,
   "metadata": {},
   "outputs": [],
   "source": []
  },
  {
   "cell_type": "code",
   "execution_count": null,
   "metadata": {},
   "outputs": [],
   "source": []
  },
  {
   "cell_type": "code",
   "execution_count": null,
   "metadata": {},
   "outputs": [],
   "source": []
  },
  {
   "cell_type": "code",
   "execution_count": null,
   "metadata": {},
   "outputs": [],
   "source": []
  },
  {
   "cell_type": "code",
   "execution_count": null,
   "metadata": {},
   "outputs": [],
   "source": []
  },
  {
   "cell_type": "code",
   "execution_count": null,
   "metadata": {},
   "outputs": [],
   "source": []
  },
  {
   "cell_type": "code",
   "execution_count": null,
   "metadata": {},
   "outputs": [],
   "source": []
  },
  {
   "cell_type": "code",
   "execution_count": null,
   "metadata": {},
   "outputs": [],
   "source": []
  },
  {
   "cell_type": "code",
   "execution_count": null,
   "metadata": {},
   "outputs": [],
   "source": []
  },
  {
   "cell_type": "code",
   "execution_count": null,
   "metadata": {},
   "outputs": [],
   "source": []
  },
  {
   "cell_type": "code",
   "execution_count": null,
   "metadata": {},
   "outputs": [],
   "source": []
  },
  {
   "cell_type": "code",
   "execution_count": null,
   "metadata": {},
   "outputs": [],
   "source": []
  },
  {
   "cell_type": "code",
   "execution_count": null,
   "metadata": {},
   "outputs": [],
   "source": []
  },
  {
   "cell_type": "code",
   "execution_count": null,
   "metadata": {},
   "outputs": [],
   "source": []
  },
  {
   "cell_type": "code",
   "execution_count": null,
   "metadata": {},
   "outputs": [],
   "source": []
  },
  {
   "cell_type": "code",
   "execution_count": null,
   "metadata": {},
   "outputs": [],
   "source": []
  },
  {
   "cell_type": "code",
   "execution_count": null,
   "metadata": {},
   "outputs": [],
   "source": []
  },
  {
   "cell_type": "code",
   "execution_count": null,
   "metadata": {},
   "outputs": [],
   "source": []
  },
  {
   "cell_type": "code",
   "execution_count": null,
   "metadata": {},
   "outputs": [],
   "source": []
  },
  {
   "cell_type": "code",
   "execution_count": null,
   "metadata": {},
   "outputs": [],
   "source": []
  },
  {
   "cell_type": "code",
   "execution_count": null,
   "metadata": {},
   "outputs": [],
   "source": []
  },
  {
   "cell_type": "code",
   "execution_count": null,
   "metadata": {},
   "outputs": [],
   "source": []
  },
  {
   "cell_type": "code",
   "execution_count": null,
   "metadata": {},
   "outputs": [],
   "source": []
  },
  {
   "cell_type": "code",
   "execution_count": null,
   "metadata": {},
   "outputs": [],
   "source": []
  },
  {
   "cell_type": "code",
   "execution_count": null,
   "metadata": {},
   "outputs": [],
   "source": []
  },
  {
   "cell_type": "code",
   "execution_count": null,
   "metadata": {},
   "outputs": [],
   "source": []
  }
 ],
 "metadata": {
  "kernelspec": {
   "display_name": "Python 3",
   "language": "python",
   "name": "python3"
  },
  "language_info": {
   "codemirror_mode": {
    "name": "ipython",
    "version": 3
   },
   "file_extension": ".py",
   "mimetype": "text/x-python",
   "name": "python",
   "nbconvert_exporter": "python",
   "pygments_lexer": "ipython3",
   "version": "3.8.3"
  }
 },
 "nbformat": 4,
 "nbformat_minor": 4
}
